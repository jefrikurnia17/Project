{
 "cells": [
  {
   "cell_type": "code",
   "execution_count": 139,
   "id": "acd2c4de-5f0b-4969-bc93-e4b10ac7e7a5",
   "metadata": {},
   "outputs": [],
   "source": [
    "import pandas as pd"
   ]
  },
  {
   "cell_type": "code",
   "execution_count": 140,
   "id": "094926df-ced0-4d08-a565-edc0cb93af5f",
   "metadata": {},
   "outputs": [],
   "source": [
    "data = pd.read_csv(r\"G:\\DATA ANALYTICS STUFF\\DATASET\\Data Store.csv\")"
   ]
  },
  {
   "cell_type": "code",
   "execution_count": 141,
   "id": "dbe41ec8-feff-491a-ad07-04f1d9535682",
   "metadata": {},
   "outputs": [
    {
     "data": {
      "text/html": [
       "<div>\n",
       "<style scoped>\n",
       "    .dataframe tbody tr th:only-of-type {\n",
       "        vertical-align: middle;\n",
       "    }\n",
       "\n",
       "    .dataframe tbody tr th {\n",
       "        vertical-align: top;\n",
       "    }\n",
       "\n",
       "    .dataframe thead th {\n",
       "        text-align: right;\n",
       "    }\n",
       "</style>\n",
       "<table border=\"1\" class=\"dataframe\">\n",
       "  <thead>\n",
       "    <tr style=\"text-align: right;\">\n",
       "      <th></th>\n",
       "      <th>DATE</th>\n",
       "      <th>DISTRIBUTOR CODE</th>\n",
       "      <th>DISTRIBUTOR NAME</th>\n",
       "      <th>REGION</th>\n",
       "      <th>AREA</th>\n",
       "      <th>DISTRICT</th>\n",
       "      <th>STORE NAME 1</th>\n",
       "      <th>PRODUCT NAME</th>\n",
       "      <th>MODEL</th>\n",
       "      <th>CATEGORY</th>\n",
       "      <th>QUANTITY</th>\n",
       "      <th>UNIT PRICE</th>\n",
       "      <th>VALUE</th>\n",
       "    </tr>\n",
       "  </thead>\n",
       "  <tbody>\n",
       "    <tr>\n",
       "      <th>0</th>\n",
       "      <td>01-01-19</td>\n",
       "      <td>2122577</td>\n",
       "      <td>PT. Citra Kreasi Makmur</td>\n",
       "      <td>Java</td>\n",
       "      <td>Surabaya</td>\n",
       "      <td>Surabaya</td>\n",
       "      <td>Hartono Sidoarjo</td>\n",
       "      <td>DRY IRON - HD1173/40</td>\n",
       "      <td>HD1173/40</td>\n",
       "      <td>Garment Care</td>\n",
       "      <td>3</td>\n",
       "      <td>273,000</td>\n",
       "      <td>819,000</td>\n",
       "    </tr>\n",
       "    <tr>\n",
       "      <th>1</th>\n",
       "      <td>01-01-19</td>\n",
       "      <td>2122577</td>\n",
       "      <td>PT. Citra Kreasi Makmur</td>\n",
       "      <td>Java</td>\n",
       "      <td>Surabaya</td>\n",
       "      <td>Surabaya</td>\n",
       "      <td>Hartono Sidoarjo</td>\n",
       "      <td>DRY IRON - HD1173/80</td>\n",
       "      <td>HD1173/80</td>\n",
       "      <td>Garment Care</td>\n",
       "      <td>1</td>\n",
       "      <td>273,000</td>\n",
       "      <td>273,000</td>\n",
       "    </tr>\n",
       "    <tr>\n",
       "      <th>2</th>\n",
       "      <td>01-01-19</td>\n",
       "      <td>2122577</td>\n",
       "      <td>PT. Citra Kreasi Makmur</td>\n",
       "      <td>Java</td>\n",
       "      <td>Surabaya</td>\n",
       "      <td>Surabaya</td>\n",
       "      <td>Hartono Sidoarjo</td>\n",
       "      <td>DRY IRON - HD1173/50</td>\n",
       "      <td>HD1173/50</td>\n",
       "      <td>Garment Care</td>\n",
       "      <td>1</td>\n",
       "      <td>273,000</td>\n",
       "      <td>273,000</td>\n",
       "    </tr>\n",
       "    <tr>\n",
       "      <th>3</th>\n",
       "      <td>01-01-19</td>\n",
       "      <td>2122577</td>\n",
       "      <td>PT. Citra Kreasi Makmur</td>\n",
       "      <td>Java</td>\n",
       "      <td>Surabaya</td>\n",
       "      <td>Surabaya</td>\n",
       "      <td>Hartono Sidoarjo</td>\n",
       "      <td>DRY IRON - HD1172/99</td>\n",
       "      <td>HD1172/99</td>\n",
       "      <td>Garment Care</td>\n",
       "      <td>5</td>\n",
       "      <td>299,500</td>\n",
       "      <td>1,497,500</td>\n",
       "    </tr>\n",
       "    <tr>\n",
       "      <th>4</th>\n",
       "      <td>01-01-19</td>\n",
       "      <td>2122577</td>\n",
       "      <td>PT. Citra Kreasi Makmur</td>\n",
       "      <td>Java</td>\n",
       "      <td>Surabaya</td>\n",
       "      <td>Surabaya</td>\n",
       "      <td>Hartono Sidoarjo</td>\n",
       "      <td>STEAM IRON - GC3920/24</td>\n",
       "      <td>GC3920/24</td>\n",
       "      <td>Garment Care</td>\n",
       "      <td>1</td>\n",
       "      <td>1,050,000</td>\n",
       "      <td>1,050,000</td>\n",
       "    </tr>\n",
       "  </tbody>\n",
       "</table>\n",
       "</div>"
      ],
      "text/plain": [
       "       DATE DISTRIBUTOR CODE         DISTRIBUTOR NAME REGION      AREA  \\\n",
       "0  01-01-19          2122577  PT. Citra Kreasi Makmur   Java  Surabaya   \n",
       "1  01-01-19          2122577  PT. Citra Kreasi Makmur   Java  Surabaya   \n",
       "2  01-01-19          2122577  PT. Citra Kreasi Makmur   Java  Surabaya   \n",
       "3  01-01-19          2122577  PT. Citra Kreasi Makmur   Java  Surabaya   \n",
       "4  01-01-19          2122577  PT. Citra Kreasi Makmur   Java  Surabaya   \n",
       "\n",
       "   DISTRICT      STORE NAME 1            PRODUCT NAME      MODEL  \\\n",
       "0  Surabaya  Hartono Sidoarjo    DRY IRON - HD1173/40  HD1173/40   \n",
       "1  Surabaya  Hartono Sidoarjo    DRY IRON - HD1173/80  HD1173/80   \n",
       "2  Surabaya  Hartono Sidoarjo    DRY IRON - HD1173/50  HD1173/50   \n",
       "3  Surabaya  Hartono Sidoarjo    DRY IRON - HD1172/99  HD1172/99   \n",
       "4  Surabaya  Hartono Sidoarjo  STEAM IRON - GC3920/24  GC3920/24   \n",
       "\n",
       "       CATEGORY   QUANTITY    UNIT PRICE        VALUE  \n",
       "0  Garment Care           3     273,000      819,000   \n",
       "1  Garment Care           1     273,000      273,000   \n",
       "2  Garment Care           1     273,000      273,000   \n",
       "3  Garment Care           5     299,500    1,497,500   \n",
       "4  Garment Care           1   1,050,000    1,050,000   "
      ]
     },
     "execution_count": 141,
     "metadata": {},
     "output_type": "execute_result"
    }
   ],
   "source": [
    "data.head()"
   ]
  },
  {
   "cell_type": "code",
   "execution_count": 142,
   "id": "e239df85-3ed2-4969-bb65-6fc3167fc777",
   "metadata": {},
   "outputs": [
    {
     "name": "stdout",
     "output_type": "stream",
     "text": [
      "<class 'pandas.core.frame.DataFrame'>\n",
      "RangeIndex: 54448 entries, 0 to 54447\n",
      "Data columns (total 13 columns):\n",
      " #   Column            Non-Null Count  Dtype \n",
      "---  ------            --------------  ----- \n",
      " 0   DATE              54448 non-null  object\n",
      " 1   DISTRIBUTOR CODE  54448 non-null  object\n",
      " 2   DISTRIBUTOR NAME  54448 non-null  object\n",
      " 3   REGION            54448 non-null  object\n",
      " 4   AREA              54448 non-null  object\n",
      " 5   DISTRICT          54448 non-null  object\n",
      " 6   STORE NAME 1      54448 non-null  object\n",
      " 7   PRODUCT NAME      54448 non-null  object\n",
      " 8   MODEL             54448 non-null  object\n",
      " 9   CATEGORY          54448 non-null  object\n",
      " 10   QUANTITY         54448 non-null  int64 \n",
      " 11   UNIT PRICE       54448 non-null  object\n",
      " 12   VALUE            54448 non-null  object\n",
      "dtypes: int64(1), object(12)\n",
      "memory usage: 5.4+ MB\n"
     ]
    }
   ],
   "source": [
    "data.info()"
   ]
  },
  {
   "cell_type": "code",
   "execution_count": 143,
   "id": "8a4adac4-f7e3-4b77-b50c-6f3ba81b586f",
   "metadata": {},
   "outputs": [
    {
     "data": {
      "text/plain": [
       "Index(['DATE', 'DISTRIBUTOR CODE', 'DISTRIBUTOR NAME', 'REGION', 'AREA',\n",
       "       'DISTRICT', 'STORE NAME 1', 'PRODUCT NAME', 'MODEL', 'CATEGORY',\n",
       "       ' QUANTITY ', ' UNIT PRICE', ' VALUE'],\n",
       "      dtype='object')"
      ]
     },
     "execution_count": 143,
     "metadata": {},
     "output_type": "execute_result"
    }
   ],
   "source": [
    "data.columns"
   ]
  },
  {
   "cell_type": "code",
   "execution_count": 144,
   "id": "c3634d24-589d-4c76-8487-54ebb17243b4",
   "metadata": {},
   "outputs": [],
   "source": [
    "data = data.rename(columns={' UNIT PRICE':'UNIT PRICE'})"
   ]
  },
  {
   "cell_type": "code",
   "execution_count": 145,
   "id": "f0678e54-cbfd-4f6d-b80b-fc4dec2002c7",
   "metadata": {},
   "outputs": [],
   "source": [
    "data = data.rename(columns={' QUANTITY ':'QUANTITY'})"
   ]
  },
  {
   "cell_type": "code",
   "execution_count": 146,
   "id": "91a70527-651a-418b-a234-c067ffadbc33",
   "metadata": {},
   "outputs": [],
   "source": [
    "data = data.rename(columns={' VALUE':'VALUE'})"
   ]
  },
  {
   "cell_type": "code",
   "execution_count": 147,
   "id": "d65ac1fd-1cb9-43b5-b959-f88c02a103f4",
   "metadata": {},
   "outputs": [
    {
     "data": {
      "text/plain": [
       "Index(['DATE', 'DISTRIBUTOR CODE', 'DISTRIBUTOR NAME', 'REGION', 'AREA',\n",
       "       'DISTRICT', 'STORE NAME 1', 'PRODUCT NAME', 'MODEL', 'CATEGORY',\n",
       "       'QUANTITY', 'UNIT PRICE', 'VALUE'],\n",
       "      dtype='object')"
      ]
     },
     "execution_count": 147,
     "metadata": {},
     "output_type": "execute_result"
    }
   ],
   "source": [
    "data.columns"
   ]
  },
  {
   "cell_type": "code",
   "execution_count": 148,
   "id": "9847d65a-f388-4ce5-a0fa-0b31f618e5a8",
   "metadata": {},
   "outputs": [],
   "source": [
    "data['UNIT PRICE'] = data['UNIT PRICE'].str.replace(',','').astype(int)\n",
    "data['VALUE'] = data['VALUE'].str.replace(',','').astype(int)"
   ]
  },
  {
   "cell_type": "code",
   "execution_count": 149,
   "id": "a2e1aa54-9c90-4492-97f7-f0a886a26fed",
   "metadata": {},
   "outputs": [
    {
     "name": "stdout",
     "output_type": "stream",
     "text": [
      "<class 'pandas.core.frame.DataFrame'>\n",
      "RangeIndex: 54448 entries, 0 to 54447\n",
      "Data columns (total 13 columns):\n",
      " #   Column            Non-Null Count  Dtype \n",
      "---  ------            --------------  ----- \n",
      " 0   DATE              54448 non-null  object\n",
      " 1   DISTRIBUTOR CODE  54448 non-null  object\n",
      " 2   DISTRIBUTOR NAME  54448 non-null  object\n",
      " 3   REGION            54448 non-null  object\n",
      " 4   AREA              54448 non-null  object\n",
      " 5   DISTRICT          54448 non-null  object\n",
      " 6   STORE NAME 1      54448 non-null  object\n",
      " 7   PRODUCT NAME      54448 non-null  object\n",
      " 8   MODEL             54448 non-null  object\n",
      " 9   CATEGORY          54448 non-null  object\n",
      " 10  QUANTITY          54448 non-null  int64 \n",
      " 11  UNIT PRICE        54448 non-null  int32 \n",
      " 12  VALUE             54448 non-null  int32 \n",
      "dtypes: int32(2), int64(1), object(10)\n",
      "memory usage: 5.0+ MB\n"
     ]
    }
   ],
   "source": [
    "data.info()"
   ]
  },
  {
   "cell_type": "code",
   "execution_count": 150,
   "id": "7d521e57-92cd-4ee9-b160-4af3628a8ba7",
   "metadata": {},
   "outputs": [
    {
     "data": {
      "text/html": [
       "<div>\n",
       "<style scoped>\n",
       "    .dataframe tbody tr th:only-of-type {\n",
       "        vertical-align: middle;\n",
       "    }\n",
       "\n",
       "    .dataframe tbody tr th {\n",
       "        vertical-align: top;\n",
       "    }\n",
       "\n",
       "    .dataframe thead th {\n",
       "        text-align: right;\n",
       "    }\n",
       "</style>\n",
       "<table border=\"1\" class=\"dataframe\">\n",
       "  <thead>\n",
       "    <tr style=\"text-align: right;\">\n",
       "      <th></th>\n",
       "      <th>QUANTITY</th>\n",
       "      <th>UNIT PRICE</th>\n",
       "      <th>VALUE</th>\n",
       "    </tr>\n",
       "  </thead>\n",
       "  <tbody>\n",
       "    <tr>\n",
       "      <th>count</th>\n",
       "      <td>54448.000000</td>\n",
       "      <td>5.444800e+04</td>\n",
       "      <td>5.444800e+04</td>\n",
       "    </tr>\n",
       "    <tr>\n",
       "      <th>mean</th>\n",
       "      <td>1.959705</td>\n",
       "      <td>4.855439e+05</td>\n",
       "      <td>9.117055e+05</td>\n",
       "    </tr>\n",
       "    <tr>\n",
       "      <th>std</th>\n",
       "      <td>2.970229</td>\n",
       "      <td>2.496254e+05</td>\n",
       "      <td>1.395832e+06</td>\n",
       "    </tr>\n",
       "    <tr>\n",
       "      <th>min</th>\n",
       "      <td>1.000000</td>\n",
       "      <td>4.200000e+04</td>\n",
       "      <td>4.200000e+04</td>\n",
       "    </tr>\n",
       "    <tr>\n",
       "      <th>25%</th>\n",
       "      <td>1.000000</td>\n",
       "      <td>2.995000e+05</td>\n",
       "      <td>3.970000e+05</td>\n",
       "    </tr>\n",
       "    <tr>\n",
       "      <th>50%</th>\n",
       "      <td>1.000000</td>\n",
       "      <td>5.350000e+05</td>\n",
       "      <td>6.200000e+05</td>\n",
       "    </tr>\n",
       "    <tr>\n",
       "      <th>75%</th>\n",
       "      <td>2.000000</td>\n",
       "      <td>6.200000e+05</td>\n",
       "      <td>9.980000e+05</td>\n",
       "    </tr>\n",
       "    <tr>\n",
       "      <th>max</th>\n",
       "      <td>185.000000</td>\n",
       "      <td>3.300000e+06</td>\n",
       "      <td>5.540750e+07</td>\n",
       "    </tr>\n",
       "  </tbody>\n",
       "</table>\n",
       "</div>"
      ],
      "text/plain": [
       "           QUANTITY    UNIT PRICE         VALUE\n",
       "count  54448.000000  5.444800e+04  5.444800e+04\n",
       "mean       1.959705  4.855439e+05  9.117055e+05\n",
       "std        2.970229  2.496254e+05  1.395832e+06\n",
       "min        1.000000  4.200000e+04  4.200000e+04\n",
       "25%        1.000000  2.995000e+05  3.970000e+05\n",
       "50%        1.000000  5.350000e+05  6.200000e+05\n",
       "75%        2.000000  6.200000e+05  9.980000e+05\n",
       "max      185.000000  3.300000e+06  5.540750e+07"
      ]
     },
     "execution_count": 150,
     "metadata": {},
     "output_type": "execute_result"
    }
   ],
   "source": [
    "data.describe()"
   ]
  },
  {
   "cell_type": "code",
   "execution_count": 151,
   "id": "c3b6499d-78e9-4224-805e-97b957ab21d2",
   "metadata": {},
   "outputs": [],
   "source": [
    "order_volume = data.groupby('STORE NAME 1')['QUANTITY'].sum()"
   ]
  },
  {
   "cell_type": "code",
   "execution_count": 152,
   "id": "56d9e07b-64ce-44ce-8531-63d306bbf06b",
   "metadata": {},
   "outputs": [],
   "source": [
    "order_volume = pd.DataFrame(order_volume).reset_index()"
   ]
  },
  {
   "cell_type": "code",
   "execution_count": 153,
   "id": "1409f4a6-4684-49c4-b83b-7043485a1de9",
   "metadata": {},
   "outputs": [],
   "source": [
    "cust_segment_by_order_volume = []\n",
    "for i in order_volume['QUANTITY']:\n",
    "    if i > 1000:\n",
    "        cust_segment_by_order_volume.append('Large')\n",
    "    if i > 100 and i <= 1000:\n",
    "        cust_segment_by_order_volume.append('Medium')\n",
    "    if i <= 100:\n",
    "        cust_segment_by_order_volume.append('Small')"
   ]
  },
  {
   "cell_type": "code",
   "execution_count": 154,
   "id": "0a50ea32-da40-4c2b-95af-f9037ef8a37e",
   "metadata": {},
   "outputs": [],
   "source": [
    "order_volume['Size'] = cust_segment_by_order_volume"
   ]
  },
  {
   "cell_type": "code",
   "execution_count": 155,
   "id": "4ce9edb0-d397-4393-82b8-b48e2e1b9959",
   "metadata": {},
   "outputs": [
    {
     "data": {
      "text/html": [
       "<div>\n",
       "<style scoped>\n",
       "    .dataframe tbody tr th:only-of-type {\n",
       "        vertical-align: middle;\n",
       "    }\n",
       "\n",
       "    .dataframe tbody tr th {\n",
       "        vertical-align: top;\n",
       "    }\n",
       "\n",
       "    .dataframe thead th {\n",
       "        text-align: right;\n",
       "    }\n",
       "</style>\n",
       "<table border=\"1\" class=\"dataframe\">\n",
       "  <thead>\n",
       "    <tr style=\"text-align: right;\">\n",
       "      <th></th>\n",
       "      <th>STORE NAME 1</th>\n",
       "      <th>QUANTITY</th>\n",
       "      <th>Size</th>\n",
       "    </tr>\n",
       "  </thead>\n",
       "  <tbody>\n",
       "    <tr>\n",
       "      <th>0</th>\n",
       "      <td>555</td>\n",
       "      <td>93</td>\n",
       "      <td>Small</td>\n",
       "    </tr>\n",
       "    <tr>\n",
       "      <th>1</th>\n",
       "      <td>8 Saudara</td>\n",
       "      <td>240</td>\n",
       "      <td>Medium</td>\n",
       "    </tr>\n",
       "    <tr>\n",
       "      <th>2</th>\n",
       "      <td>A.Fauzy</td>\n",
       "      <td>1109</td>\n",
       "      <td>Large</td>\n",
       "    </tr>\n",
       "    <tr>\n",
       "      <th>3</th>\n",
       "      <td>A.Takrib Kyaimojo</td>\n",
       "      <td>199</td>\n",
       "      <td>Medium</td>\n",
       "    </tr>\n",
       "    <tr>\n",
       "      <th>4</th>\n",
       "      <td>Abadi Elektronik</td>\n",
       "      <td>152</td>\n",
       "      <td>Medium</td>\n",
       "    </tr>\n",
       "    <tr>\n",
       "      <th>5</th>\n",
       "      <td>Abdi Karya Supermarket</td>\n",
       "      <td>32</td>\n",
       "      <td>Small</td>\n",
       "    </tr>\n",
       "    <tr>\n",
       "      <th>6</th>\n",
       "      <td>Ace Alam Sutra</td>\n",
       "      <td>11</td>\n",
       "      <td>Small</td>\n",
       "    </tr>\n",
       "    <tr>\n",
       "      <th>7</th>\n",
       "      <td>Ace Artha Gading</td>\n",
       "      <td>160</td>\n",
       "      <td>Medium</td>\n",
       "    </tr>\n",
       "    <tr>\n",
       "      <th>8</th>\n",
       "      <td>Ace Bintaro</td>\n",
       "      <td>128</td>\n",
       "      <td>Medium</td>\n",
       "    </tr>\n",
       "    <tr>\n",
       "      <th>9</th>\n",
       "      <td>Ace Central Park</td>\n",
       "      <td>64</td>\n",
       "      <td>Small</td>\n",
       "    </tr>\n",
       "  </tbody>\n",
       "</table>\n",
       "</div>"
      ],
      "text/plain": [
       "             STORE NAME 1  QUANTITY    Size\n",
       "0                     555        93   Small\n",
       "1               8 Saudara       240  Medium\n",
       "2                 A.Fauzy      1109   Large\n",
       "3       A.Takrib Kyaimojo       199  Medium\n",
       "4        Abadi Elektronik       152  Medium\n",
       "5  Abdi Karya Supermarket        32   Small\n",
       "6          Ace Alam Sutra        11   Small\n",
       "7        Ace Artha Gading       160  Medium\n",
       "8             Ace Bintaro       128  Medium\n",
       "9        Ace Central Park        64   Small"
      ]
     },
     "execution_count": 155,
     "metadata": {},
     "output_type": "execute_result"
    }
   ],
   "source": [
    "order_volume.head(10)"
   ]
  },
  {
   "cell_type": "code",
   "execution_count": 156,
   "id": "214b6aaf-768e-4080-b82b-3ca98ad38a54",
   "metadata": {},
   "outputs": [],
   "source": [
    "order_vary = data.groupby('STORE NAME 1')['CATEGORY'].value_counts()"
   ]
  },
  {
   "cell_type": "code",
   "execution_count": 157,
   "id": "9daee982-29bc-4e47-a82d-1e80c9525452",
   "metadata": {},
   "outputs": [],
   "source": [
    "order_vary = pd.DataFrame(order_vary)"
   ]
  },
  {
   "cell_type": "code",
   "execution_count": 158,
   "id": "58ca16fc-2cdc-4bc3-8819-b7ac80fc5f93",
   "metadata": {},
   "outputs": [],
   "source": [
    "order_vary = order_vary.rename(columns={'CATEGORY':'qty'})"
   ]
  },
  {
   "cell_type": "code",
   "execution_count": 159,
   "id": "d5388572-7ba6-4fcf-8670-c87ce30473d6",
   "metadata": {},
   "outputs": [
    {
     "data": {
      "text/html": [
       "<div>\n",
       "<style scoped>\n",
       "    .dataframe tbody tr th:only-of-type {\n",
       "        vertical-align: middle;\n",
       "    }\n",
       "\n",
       "    .dataframe tbody tr th {\n",
       "        vertical-align: top;\n",
       "    }\n",
       "\n",
       "    .dataframe thead th {\n",
       "        text-align: right;\n",
       "    }\n",
       "</style>\n",
       "<table border=\"1\" class=\"dataframe\">\n",
       "  <thead>\n",
       "    <tr style=\"text-align: right;\">\n",
       "      <th></th>\n",
       "      <th></th>\n",
       "      <th>qty</th>\n",
       "    </tr>\n",
       "    <tr>\n",
       "      <th>STORE NAME 1</th>\n",
       "      <th>CATEGORY</th>\n",
       "      <th></th>\n",
       "    </tr>\n",
       "  </thead>\n",
       "  <tbody>\n",
       "    <tr>\n",
       "      <th rowspan=\"3\" valign=\"top\">555</th>\n",
       "      <th>Povos</th>\n",
       "      <td>19</td>\n",
       "    </tr>\n",
       "    <tr>\n",
       "      <th>Garment Care</th>\n",
       "      <td>15</td>\n",
       "    </tr>\n",
       "    <tr>\n",
       "      <th>Kitchen Appliances</th>\n",
       "      <td>10</td>\n",
       "    </tr>\n",
       "    <tr>\n",
       "      <th rowspan=\"4\" valign=\"top\">8 Saudara</th>\n",
       "      <th>Garment Care</th>\n",
       "      <td>59</td>\n",
       "    </tr>\n",
       "    <tr>\n",
       "      <th>Povos</th>\n",
       "      <td>56</td>\n",
       "    </tr>\n",
       "    <tr>\n",
       "      <th>Kitchen Appliances</th>\n",
       "      <td>46</td>\n",
       "    </tr>\n",
       "    <tr>\n",
       "      <th>Beauty</th>\n",
       "      <td>1</td>\n",
       "    </tr>\n",
       "    <tr>\n",
       "      <th rowspan=\"3\" valign=\"top\">A.Fauzy</th>\n",
       "      <th>Kitchen Appliances</th>\n",
       "      <td>102</td>\n",
       "    </tr>\n",
       "    <tr>\n",
       "      <th>Povos</th>\n",
       "      <td>102</td>\n",
       "    </tr>\n",
       "    <tr>\n",
       "      <th>Garment Care</th>\n",
       "      <td>77</td>\n",
       "    </tr>\n",
       "  </tbody>\n",
       "</table>\n",
       "</div>"
      ],
      "text/plain": [
       "                                 qty\n",
       "STORE NAME 1 CATEGORY               \n",
       "555          Povos                19\n",
       "             Garment Care         15\n",
       "             Kitchen Appliances   10\n",
       "8 Saudara    Garment Care         59\n",
       "             Povos                56\n",
       "             Kitchen Appliances   46\n",
       "             Beauty                1\n",
       "A.Fauzy      Kitchen Appliances  102\n",
       "             Povos               102\n",
       "             Garment Care         77"
      ]
     },
     "execution_count": 159,
     "metadata": {},
     "output_type": "execute_result"
    }
   ],
   "source": [
    "order_vary.head(10)"
   ]
  },
  {
   "cell_type": "code",
   "execution_count": 160,
   "id": "94915309-3ed0-4c6f-b0c5-c74e6c7e48cf",
   "metadata": {},
   "outputs": [],
   "source": [
    "cust_class = data.groupby('STORE NAME 1')['CATEGORY'].nunique()"
   ]
  },
  {
   "cell_type": "code",
   "execution_count": 161,
   "id": "2a5df714-8bb8-4cfd-a409-513ab91dd69c",
   "metadata": {},
   "outputs": [],
   "source": [
    "cust_class = pd.DataFrame(cust_class).reset_index()"
   ]
  },
  {
   "cell_type": "code",
   "execution_count": 162,
   "id": "0e8c7389-3f3d-42bb-9e68-8f4f965d1012",
   "metadata": {},
   "outputs": [],
   "source": [
    "category_variation = []\n",
    "for i in cust_class['CATEGORY']:\n",
    "    if i <=3:\n",
    "       category_variation.append('Univariate')\n",
    "    if i >3:\n",
    "        category_variation.append('Multivariate')"
   ]
  },
  {
   "cell_type": "code",
   "execution_count": 163,
   "id": "6b1f4548-a01a-4b0f-ad5f-0fbb6809b942",
   "metadata": {},
   "outputs": [],
   "source": [
    "cust_class['VARIATION'] = category_variation"
   ]
  },
  {
   "cell_type": "code",
   "execution_count": 164,
   "id": "c00b6a60-b455-4bf8-8584-8750af30fb8c",
   "metadata": {},
   "outputs": [
    {
     "data": {
      "text/html": [
       "<div>\n",
       "<style scoped>\n",
       "    .dataframe tbody tr th:only-of-type {\n",
       "        vertical-align: middle;\n",
       "    }\n",
       "\n",
       "    .dataframe tbody tr th {\n",
       "        vertical-align: top;\n",
       "    }\n",
       "\n",
       "    .dataframe thead th {\n",
       "        text-align: right;\n",
       "    }\n",
       "</style>\n",
       "<table border=\"1\" class=\"dataframe\">\n",
       "  <thead>\n",
       "    <tr style=\"text-align: right;\">\n",
       "      <th></th>\n",
       "      <th>STORE NAME 1</th>\n",
       "      <th>CATEGORY</th>\n",
       "      <th>VARIATION</th>\n",
       "    </tr>\n",
       "  </thead>\n",
       "  <tbody>\n",
       "    <tr>\n",
       "      <th>0</th>\n",
       "      <td>555</td>\n",
       "      <td>3</td>\n",
       "      <td>Univariate</td>\n",
       "    </tr>\n",
       "    <tr>\n",
       "      <th>1</th>\n",
       "      <td>8 Saudara</td>\n",
       "      <td>4</td>\n",
       "      <td>Multivariate</td>\n",
       "    </tr>\n",
       "    <tr>\n",
       "      <th>2</th>\n",
       "      <td>A.Fauzy</td>\n",
       "      <td>4</td>\n",
       "      <td>Multivariate</td>\n",
       "    </tr>\n",
       "    <tr>\n",
       "      <th>3</th>\n",
       "      <td>A.Takrib Kyaimojo</td>\n",
       "      <td>4</td>\n",
       "      <td>Multivariate</td>\n",
       "    </tr>\n",
       "    <tr>\n",
       "      <th>4</th>\n",
       "      <td>Abadi Elektronik</td>\n",
       "      <td>3</td>\n",
       "      <td>Univariate</td>\n",
       "    </tr>\n",
       "    <tr>\n",
       "      <th>5</th>\n",
       "      <td>Abdi Karya Supermarket</td>\n",
       "      <td>3</td>\n",
       "      <td>Univariate</td>\n",
       "    </tr>\n",
       "    <tr>\n",
       "      <th>6</th>\n",
       "      <td>Ace Alam Sutra</td>\n",
       "      <td>4</td>\n",
       "      <td>Multivariate</td>\n",
       "    </tr>\n",
       "    <tr>\n",
       "      <th>7</th>\n",
       "      <td>Ace Artha Gading</td>\n",
       "      <td>6</td>\n",
       "      <td>Multivariate</td>\n",
       "    </tr>\n",
       "    <tr>\n",
       "      <th>8</th>\n",
       "      <td>Ace Bintaro</td>\n",
       "      <td>6</td>\n",
       "      <td>Multivariate</td>\n",
       "    </tr>\n",
       "    <tr>\n",
       "      <th>9</th>\n",
       "      <td>Ace Central Park</td>\n",
       "      <td>6</td>\n",
       "      <td>Multivariate</td>\n",
       "    </tr>\n",
       "  </tbody>\n",
       "</table>\n",
       "</div>"
      ],
      "text/plain": [
       "             STORE NAME 1  CATEGORY     VARIATION\n",
       "0                     555         3    Univariate\n",
       "1               8 Saudara         4  Multivariate\n",
       "2                 A.Fauzy         4  Multivariate\n",
       "3       A.Takrib Kyaimojo         4  Multivariate\n",
       "4        Abadi Elektronik         3    Univariate\n",
       "5  Abdi Karya Supermarket         3    Univariate\n",
       "6          Ace Alam Sutra         4  Multivariate\n",
       "7        Ace Artha Gading         6  Multivariate\n",
       "8             Ace Bintaro         6  Multivariate\n",
       "9        Ace Central Park         6  Multivariate"
      ]
     },
     "execution_count": 164,
     "metadata": {},
     "output_type": "execute_result"
    }
   ],
   "source": [
    "cust_class.head(10)"
   ]
  },
  {
   "cell_type": "code",
   "execution_count": 165,
   "id": "371d9d97-e75c-40a5-bee9-296c5e9f3b06",
   "metadata": {},
   "outputs": [],
   "source": [
    "customer_clustering = pd.merge(order_volume,cust_class,how='outer',right_on='STORE NAME 1',left_on='STORE NAME 1')"
   ]
  },
  {
   "cell_type": "code",
   "execution_count": 166,
   "id": "d559b0ed-85b6-46c4-a0d8-6b982ef772bc",
   "metadata": {},
   "outputs": [],
   "source": [
    "import numpy as np\n",
    "np_size = np.array(customer_clustering['Size'])\n",
    "np_variate = np.array(customer_clustering['VARIATION'])\n",
    "clustering = np_size + ' '+ np_variate"
   ]
  },
  {
   "cell_type": "code",
   "execution_count": 167,
   "id": "338cf81c-03ab-4947-aa77-39e0d5e6af2c",
   "metadata": {},
   "outputs": [],
   "source": [
    "clustering = list(clustering)"
   ]
  },
  {
   "cell_type": "code",
   "execution_count": 168,
   "id": "4533a7f3-55c3-4108-9566-ba55a68e35a7",
   "metadata": {},
   "outputs": [],
   "source": [
    "customer_clustering['Size Variation'] = clustering"
   ]
  },
  {
   "cell_type": "code",
   "execution_count": 169,
   "id": "08023ce6-ef40-4579-8dd5-af1bfc7725a5",
   "metadata": {},
   "outputs": [],
   "source": [
    "customer_cluster = []\n",
    "for i in customer_clustering['Size Variation']:\n",
    "    if i == 'Small Univariate':\n",
    "        customer_cluster.append('Agen Kecil')\n",
    "    if i == 'Medium Univariate':\n",
    "        customer_cluster.append('Outlet')\n",
    "    if i == 'Large Univariate':\n",
    "        customer_cluster.append('Agen Besar')\n",
    "    if i == 'Small Multivariate':\n",
    "        customer_cluster.append('Retail')\n",
    "    if i == 'Medium Multivariate':\n",
    "        customer_cluster.append('Retail Sedang')\n",
    "    if i == 'Large Multivariate':\n",
    "        customer_cluster.append('Grosir')"
   ]
  },
  {
   "cell_type": "code",
   "execution_count": 170,
   "id": "01ed55da-83d4-45ec-b5df-bda319231dc9",
   "metadata": {},
   "outputs": [],
   "source": [
    "customer_clustering['Clustering'] = customer_cluster"
   ]
  },
  {
   "cell_type": "code",
   "execution_count": 171,
   "id": "5443f383-9361-4251-a49b-24c47755be4e",
   "metadata": {},
   "outputs": [
    {
     "data": {
      "text/html": [
       "<div>\n",
       "<style scoped>\n",
       "    .dataframe tbody tr th:only-of-type {\n",
       "        vertical-align: middle;\n",
       "    }\n",
       "\n",
       "    .dataframe tbody tr th {\n",
       "        vertical-align: top;\n",
       "    }\n",
       "\n",
       "    .dataframe thead th {\n",
       "        text-align: right;\n",
       "    }\n",
       "</style>\n",
       "<table border=\"1\" class=\"dataframe\">\n",
       "  <thead>\n",
       "    <tr style=\"text-align: right;\">\n",
       "      <th></th>\n",
       "      <th>STORE NAME 1</th>\n",
       "      <th>QUANTITY</th>\n",
       "      <th>Size</th>\n",
       "      <th>CATEGORY</th>\n",
       "      <th>VARIATION</th>\n",
       "      <th>Size Variation</th>\n",
       "      <th>Clustering</th>\n",
       "    </tr>\n",
       "  </thead>\n",
       "  <tbody>\n",
       "    <tr>\n",
       "      <th>0</th>\n",
       "      <td>555</td>\n",
       "      <td>93</td>\n",
       "      <td>Small</td>\n",
       "      <td>3</td>\n",
       "      <td>Univariate</td>\n",
       "      <td>Small Univariate</td>\n",
       "      <td>Agen Kecil</td>\n",
       "    </tr>\n",
       "    <tr>\n",
       "      <th>1</th>\n",
       "      <td>8 Saudara</td>\n",
       "      <td>240</td>\n",
       "      <td>Medium</td>\n",
       "      <td>4</td>\n",
       "      <td>Multivariate</td>\n",
       "      <td>Medium Multivariate</td>\n",
       "      <td>Retail Sedang</td>\n",
       "    </tr>\n",
       "    <tr>\n",
       "      <th>2</th>\n",
       "      <td>A.Fauzy</td>\n",
       "      <td>1109</td>\n",
       "      <td>Large</td>\n",
       "      <td>4</td>\n",
       "      <td>Multivariate</td>\n",
       "      <td>Large Multivariate</td>\n",
       "      <td>Grosir</td>\n",
       "    </tr>\n",
       "    <tr>\n",
       "      <th>3</th>\n",
       "      <td>A.Takrib Kyaimojo</td>\n",
       "      <td>199</td>\n",
       "      <td>Medium</td>\n",
       "      <td>4</td>\n",
       "      <td>Multivariate</td>\n",
       "      <td>Medium Multivariate</td>\n",
       "      <td>Retail Sedang</td>\n",
       "    </tr>\n",
       "    <tr>\n",
       "      <th>4</th>\n",
       "      <td>Abadi Elektronik</td>\n",
       "      <td>152</td>\n",
       "      <td>Medium</td>\n",
       "      <td>3</td>\n",
       "      <td>Univariate</td>\n",
       "      <td>Medium Univariate</td>\n",
       "      <td>Outlet</td>\n",
       "    </tr>\n",
       "    <tr>\n",
       "      <th>...</th>\n",
       "      <td>...</td>\n",
       "      <td>...</td>\n",
       "      <td>...</td>\n",
       "      <td>...</td>\n",
       "      <td>...</td>\n",
       "      <td>...</td>\n",
       "      <td>...</td>\n",
       "    </tr>\n",
       "    <tr>\n",
       "      <th>359</th>\n",
       "      <td>Yellow Mart</td>\n",
       "      <td>175</td>\n",
       "      <td>Medium</td>\n",
       "      <td>6</td>\n",
       "      <td>Multivariate</td>\n",
       "      <td>Medium Multivariate</td>\n",
       "      <td>Retail Sedang</td>\n",
       "    </tr>\n",
       "    <tr>\n",
       "      <th>360</th>\n",
       "      <td>Yogya Kepatihan</td>\n",
       "      <td>86</td>\n",
       "      <td>Small</td>\n",
       "      <td>5</td>\n",
       "      <td>Multivariate</td>\n",
       "      <td>Small Multivariate</td>\n",
       "      <td>Retail</td>\n",
       "    </tr>\n",
       "    <tr>\n",
       "      <th>361</th>\n",
       "      <td>Yogya Riau</td>\n",
       "      <td>287</td>\n",
       "      <td>Medium</td>\n",
       "      <td>6</td>\n",
       "      <td>Multivariate</td>\n",
       "      <td>Medium Multivariate</td>\n",
       "      <td>Retail Sedang</td>\n",
       "    </tr>\n",
       "    <tr>\n",
       "      <th>362</th>\n",
       "      <td>Yogya Sumber Sari Junction</td>\n",
       "      <td>58</td>\n",
       "      <td>Small</td>\n",
       "      <td>5</td>\n",
       "      <td>Multivariate</td>\n",
       "      <td>Small Multivariate</td>\n",
       "      <td>Retail</td>\n",
       "    </tr>\n",
       "    <tr>\n",
       "      <th>363</th>\n",
       "      <td>Yudha Swalayan</td>\n",
       "      <td>208</td>\n",
       "      <td>Medium</td>\n",
       "      <td>3</td>\n",
       "      <td>Univariate</td>\n",
       "      <td>Medium Univariate</td>\n",
       "      <td>Outlet</td>\n",
       "    </tr>\n",
       "  </tbody>\n",
       "</table>\n",
       "<p>364 rows × 7 columns</p>\n",
       "</div>"
      ],
      "text/plain": [
       "                   STORE NAME 1  QUANTITY    Size  CATEGORY     VARIATION  \\\n",
       "0                           555        93   Small         3    Univariate   \n",
       "1                     8 Saudara       240  Medium         4  Multivariate   \n",
       "2                       A.Fauzy      1109   Large         4  Multivariate   \n",
       "3             A.Takrib Kyaimojo       199  Medium         4  Multivariate   \n",
       "4              Abadi Elektronik       152  Medium         3    Univariate   \n",
       "..                          ...       ...     ...       ...           ...   \n",
       "359                 Yellow Mart       175  Medium         6  Multivariate   \n",
       "360             Yogya Kepatihan        86   Small         5  Multivariate   \n",
       "361                  Yogya Riau       287  Medium         6  Multivariate   \n",
       "362  Yogya Sumber Sari Junction        58   Small         5  Multivariate   \n",
       "363              Yudha Swalayan       208  Medium         3    Univariate   \n",
       "\n",
       "          Size Variation     Clustering  \n",
       "0       Small Univariate     Agen Kecil  \n",
       "1    Medium Multivariate  Retail Sedang  \n",
       "2     Large Multivariate         Grosir  \n",
       "3    Medium Multivariate  Retail Sedang  \n",
       "4      Medium Univariate         Outlet  \n",
       "..                   ...            ...  \n",
       "359  Medium Multivariate  Retail Sedang  \n",
       "360   Small Multivariate         Retail  \n",
       "361  Medium Multivariate  Retail Sedang  \n",
       "362   Small Multivariate         Retail  \n",
       "363    Medium Univariate         Outlet  \n",
       "\n",
       "[364 rows x 7 columns]"
      ]
     },
     "execution_count": 171,
     "metadata": {},
     "output_type": "execute_result"
    }
   ],
   "source": [
    "customer_clustering"
   ]
  },
  {
   "cell_type": "code",
   "execution_count": 172,
   "id": "b4f06bf5-c8b9-4e5c-94bd-6588eea7a906",
   "metadata": {},
   "outputs": [],
   "source": [
    "import matplotlib.pyplot as plt"
   ]
  },
  {
   "cell_type": "code",
   "execution_count": 173,
   "id": "5d487941-65a7-43db-9c9e-b87ad3c198e0",
   "metadata": {},
   "outputs": [],
   "source": [
    "top_product_sales = data.groupby('PRODUCT NAME')['QUANTITY'].sum().sort_values(ascending=False)"
   ]
  },
  {
   "cell_type": "code",
   "execution_count": 174,
   "id": "ad873469-e4d4-4c1a-aef0-c56937157989",
   "metadata": {},
   "outputs": [
    {
     "data": {
      "image/png": "[encoded data removed]",
      "text/plain": [
       "<Figure size 1080x720 with 1 Axes>"
      ]
     },
     "metadata": {
      "needs_background": "light"
     },
     "output_type": "display_data"
    }
   ],
   "source": [
    "top_10_product_sales = top_product_sales\n",
    "plt.figure(figsize=(15,10))\n",
    "(top_10_product_sales.sort_values(ascending=False).head(10)).sort_values(ascending=True).plot(kind='barh')\n",
    "plt.title('Top 10 Product Sales', fontsize=15)\n",
    "plt.xlabel('Quantity', fontsize=12)\n",
    "plt.ylabel('Product Name', fontsize=12)\n",
    "plt.show()"
   ]
  },
  {
   "cell_type": "code",
   "execution_count": 175,
   "id": "f3e1b6a0-ba7c-49af-bd47-dbeedc1890af",
   "metadata": {},
   "outputs": [
    {
     "data": {
      "image/png": "[encoded data removed]",
      "text/plain": [
       "<Figure size 1080x720 with 1 Axes>"
      ]
     },
     "metadata": {
      "needs_background": "light"
     },
     "output_type": "display_data"
    }
   ],
   "source": [
    "# Top Supplier\n",
    "top_supplier = data.groupby('DISTRIBUTOR NAME')['QUANTITY'].sum()\n",
    "plt.figure(figsize=(15,10))\n",
    "(top_supplier.sort_values(ascending=False)).head(5).sort_values(ascending=True).plot(color='green',kind='bar')\n",
    "plt.title('Top 5 Supplier', fontsize=15)\n",
    "plt.ylabel('Quantity', fontsize=12)\n",
    "plt.xticks(rotation=0)\n",
    "plt.show()"
   ]
  },
  {
   "cell_type": "code",
   "execution_count": 176,
   "id": "5c9cd195-d262-445b-92c2-840de32d97b0",
   "metadata": {},
   "outputs": [
    {
     "data": {
      "image/png": "[encoded data removed]",
      "text/plain": [
       "<Figure size 1080x720 with 1 Axes>"
      ]
     },
     "metadata": {
      "needs_background": "light"
     },
     "output_type": "display_data"
    }
   ],
   "source": [
    "# Top 5 Sales by Area\n",
    "plt.figure(figsize=(15,10))\n",
    "(data.groupby('AREA')['QUANTITY'].sum().sort_values(ascending=False)).head(5).sort_values(ascending=True).plot(color='red',kind='bar')\n",
    "plt.title('Top 5 Sales by Area ', fontsize=15)\n",
    "plt.ylabel('Quantity', fontsize=12)\n",
    "plt.xticks(rotation=0)\n",
    "plt.show()"
   ]
  },
  {
   "cell_type": "code",
   "execution_count": 177,
   "id": "71a14034-36e4-456e-ac77-452e15a3486f",
   "metadata": {},
   "outputs": [
    {
     "data": {
      "image/png": "[encoded data removed]",
      "text/plain": [
       "<Figure size 1080x720 with 1 Axes>"
      ]
     },
     "metadata": {
      "needs_background": "light"
     },
     "output_type": "display_data"
    }
   ],
   "source": [
    "# Top 5 Sales by Product Category\n",
    "plt.figure(figsize=(15,10))\n",
    "(data.groupby('CATEGORY')['QUANTITY'].sum().sort_values(ascending=False)).head(5).sort_values(ascending=True).plot(color='yellow',kind='bar')\n",
    "plt.title('Top 5 Sales by Product Category', fontsize=15)\n",
    "plt.ylabel('Quantity', fontsize=12)\n",
    "plt.xticks(rotation=0)\n",
    "plt.show()"
   ]
  },
  {
   "cell_type": "code",
   "execution_count": 178,
   "id": "88e6ceb9-da9a-4fa1-b3f5-73cbb74acf5d",
   "metadata": {},
   "outputs": [],
   "source": [
    "# Sales in Particular Period\n",
    "time_series_sales = data[['DATE','QUANTITY']].copy()"
   ]
  },
  {
   "cell_type": "code",
   "execution_count": 179,
   "id": "724694e2-63a8-43ef-af53-edd52b143bd9",
   "metadata": {},
   "outputs": [],
   "source": [
    "time_series_sales['DATE'] = pd.to_datetime(time_series_sales['DATE'], format='%d-%m-%y')"
   ]
  },
  {
   "cell_type": "code",
   "execution_count": 180,
   "id": "49a5460f-9421-41f6-963f-4cbce3299ddc",
   "metadata": {},
   "outputs": [],
   "source": [
    "time_series_sales = time_series_sales.groupby('DATE')['QUANTITY'].sum()"
   ]
  },
  {
   "cell_type": "code",
   "execution_count": 181,
   "id": "021f37fc-fc0c-4bcf-ba86-cbff88e39556",
   "metadata": {},
   "outputs": [
    {
     "data": {
      "text/plain": [
       "DATE\n",
       "2019-01-01     721\n",
       "2019-01-02    2996\n",
       "2019-01-03    3276\n",
       "2019-01-04    3582\n",
       "2019-01-05    3866\n",
       "2019-01-06    3176\n",
       "2019-01-07    2896\n",
       "2019-01-08    3244\n",
       "2019-01-09    3049\n",
       "2019-01-10    3264\n",
       "2019-01-11    3817\n",
       "2019-01-12    3967\n",
       "2019-01-13    3428\n",
       "2019-01-14    4185\n",
       "2019-01-15    4219\n",
       "2019-01-16    3241\n",
       "2019-01-17    3191\n",
       "2019-01-18    4134\n",
       "2019-01-19    3877\n",
       "2019-01-20    3439\n",
       "2019-01-21    3869\n",
       "2019-01-22    3147\n",
       "2019-01-23    3154\n",
       "2019-01-24    2062\n",
       "2019-01-25    3955\n",
       "2019-01-26    4269\n",
       "2019-01-27    3421\n",
       "2019-01-28    3317\n",
       "2019-01-29    3047\n",
       "2019-01-30    3750\n",
       "2019-01-31    5143\n",
       "Name: QUANTITY, dtype: int64"
      ]
     },
     "execution_count": 181,
     "metadata": {},
     "output_type": "execute_result"
    }
   ],
   "source": [
    "time_series_sales"
   ]
  },
  {
   "cell_type": "code",
   "execution_count": 182,
   "id": "6f21f911-aae8-4b4d-b0f5-8d0267d9455f",
   "metadata": {},
   "outputs": [
    {
     "data": {
      "image/png": "[encoded data removed]",
      "text/plain": [
       "<Figure size 1080x720 with 1 Axes>"
      ]
     },
     "metadata": {
      "needs_background": "light"
     },
     "output_type": "display_data"
    }
   ],
   "source": [
    "plt.figure(figsize=(15,10))\n",
    "time_series_sales.plot(color='orange')\n",
    "plt.title('Daily Sales', fontsize=15)\n",
    "plt.ylabel('Quantity', fontsize=12)\n",
    "plt.grid(linewidth=0.5)\n",
    "plt.show()"
   ]
  },
  {
   "cell_type": "code",
   "execution_count": 191,
   "id": "a740470b-a90e-44cb-80c0-39d051bc8c46",
   "metadata": {},
   "outputs": [],
   "source": [
    "# Klasterisasi Customer\n",
    "store_cluster = customer_clustering['Clustering'].value_counts()"
   ]
  },
  {
   "cell_type": "code",
   "execution_count": 195,
   "id": "678a1089-55b4-40f0-a78c-068cb4396455",
   "metadata": {},
   "outputs": [
    {
     "data": {
      "image/png": "[encoded data removed]",
      "text/plain": [
       "<Figure size 1080x720 with 1 Axes>"
      ]
     },
     "metadata": {
      "needs_background": "light"
     },
     "output_type": "display_data"
    }
   ],
   "source": [
    "plt.figure(figsize=(15,10))\n",
    "store_cluster.plot(kind='bar',color='purple')\n",
    "plt.title('Klasterisasi Customer', fontsize=15)\n",
    "plt.ylabel('Quantity', fontsize=12)\n",
    "plt.xlabel('Jenis Toko', fontsize=12)\n",
    "plt.xticks(rotation=0)\n",
    "plt.show()"
   ]
  },
  {
   "cell_type": "code",
   "execution_count": 196,
   "id": "b500178e-4ae9-4de7-ae2c-a07602d084fc",
   "metadata": {},
   "outputs": [],
   "source": [
    "# Top 10 Sales by Store\n",
    "store_sales = data.groupby('STORE NAME 1')['QUANTITY'].sum()"
   ]
  },
  {
   "cell_type": "code",
   "execution_count": 204,
   "id": "9b94f694-8912-4835-bede-692920ce1119",
   "metadata": {},
   "outputs": [
    {
     "data": {
      "image/png": "[encoded data removed]",
      "text/plain": [
       "<Figure size 1080x720 with 1 Axes>"
      ]
     },
     "metadata": {
      "needs_background": "light"
     },
     "output_type": "display_data"
    }
   ],
   "source": [
    "plt.figure(figsize=(15,10))\n",
    "(store_sales.sort_values(ascending=False)).head(10).sort_values(ascending=True).plot(kind='barh',color='magenta')\n",
    "plt.title('Top 10 Sales by Store', fontsize=15)\n",
    "plt.xlabel('Quantity', fontsize=12)\n",
    "plt.ylabel('Nama Toko', fontsize=12)\n",
    "plt.xticks(rotation=0)\n",
    "plt.show()"
   ]
  }
 ],
 "metadata": {
  "kernelspec": {
   "display_name": "Python 3 (ipykernel)",
   "language": "python",
   "name": "python3"
  },
  "language_info": {
   "codemirror_mode": {
    "name": "ipython",
    "version": 3
   },
   "file_extension": ".py",
   "mimetype": "text/x-python",
   "name": "python",
   "nbconvert_exporter": "python",
   "pygments_lexer": "ipython3",
   "version": "3.9.7"
  }
 },
 "nbformat": 4,
 "nbformat_minor": 5
}
