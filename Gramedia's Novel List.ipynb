{
 "cells": [
  {
   "cell_type": "code",
   "execution_count": 2,
   "id": "69a24cce-f096-4f80-8b36-a148f4e8c4d7",
   "metadata": {},
   "outputs": [],
   "source": [
    "from bs4 import BeautifulSoup\n",
    "import pandas as pd"
   ]
  },
  {
   "cell_type": "code",
   "execution_count": 3,
   "id": "07c11f22-eaca-4641-a61a-ca8e960c6cc5",
   "metadata": {},
   "outputs": [],
   "source": [
    "with open('gramedia.html', encoding='utf-8') as f:\n",
    "    page = f.read()"
   ]
  },
  {
   "cell_type": "code",
   "execution_count": 4,
   "id": "6cf87787-e801-43f1-849d-2405a6f8aa56",
   "metadata": {},
   "outputs": [],
   "source": [
    "soup = BeautifulSoup(page, 'html.parser')"
   ]
  },
  {
   "cell_type": "code",
   "execution_count": 5,
   "id": "d64fb437-0dec-4e33-a136-71d7b39f5387",
   "metadata": {},
   "outputs": [],
   "source": [
    "author = soup.find_all('p', {'class':'div-author'})"
   ]
  },
  {
   "cell_type": "code",
   "execution_count": 31,
   "id": "e072454e-218d-45f9-b12e-476e3ac05411",
   "metadata": {},
   "outputs": [],
   "source": [
    "author_name = [a.text.strip() for a in author]"
   ]
  },
  {
   "cell_type": "code",
   "execution_count": 35,
   "id": "5ad785b8-eef5-4078-9f37-5745dd36b7e6",
   "metadata": {},
   "outputs": [
    {
     "data": {
      "text/plain": [
       "['Andrea Hirata',\n",
       " 'Ika Natassa',\n",
       " 'C. S. Lewis',\n",
       " 'TARA WESTOVER',\n",
       " 'Toshikazu Kawaguchi',\n",
       " 'C. S. Lewis',\n",
       " 'Matt Haig',\n",
       " 'Keigo Higashino',\n",
       " 'Aliazalea',\n",
       " 'Tere-liye',\n",
       " 'Tere-liye',\n",
       " 'Ziggy Zezsyazeoviennazabrizkie',\n",
       " 'Theoresia Rumthe & Weslly Johannes',\n",
       " 'Keigo Higashino',\n",
       " 'Keigo Higashino',\n",
       " 'Eka Kurniawan',\n",
       " 'Ziggyzesyazeoviennazabrizkie',\n",
       " 'Kazuo Ishiguro',\n",
       " 'Keigo Higashino',\n",
       " 'Soji Shimada']"
      ]
     },
     "execution_count": 35,
     "metadata": {},
     "output_type": "execute_result"
    }
   ],
   "source": [
    "author_name"
   ]
  },
  {
   "cell_type": "code",
   "execution_count": 36,
   "id": "a3056294-1e07-40f4-ba3c-67ec5eb068d4",
   "metadata": {},
   "outputs": [],
   "source": [
    "title = soup.find_all('div', {'class':'list-title'})"
   ]
  },
  {
   "cell_type": "code",
   "execution_count": 38,
   "id": "b2968a7c-4442-42fd-a6f0-0f54636de2e1",
   "metadata": {},
   "outputs": [],
   "source": [
    "book_title = [t.text.strip() for t in title]"
   ]
  },
  {
   "cell_type": "code",
   "execution_count": 39,
   "id": "9069942e-95f0-4bd8-bbf8-e4b1c752a302",
   "metadata": {},
   "outputs": [
    {
     "data": {
      "text/plain": [
       "['Brianna dan Bottomwise',\n",
       " 'Heartbreak Motel',\n",
       " 'The Chronicles of Narnia #1: The Magician`s Nephew (Keponakan Penyihir)',\n",
       " 'Terdidik (Educated) - Sebuah Memoar',\n",
       " 'Funiculi Funicula (Kōhī Ga Samenai Uchi Ni---Before the Coffee Gets Cold)',\n",
       " 'The Chronicles of Narnia #3: The Horse & His Boy (Kuda dan Anak Manusia)',\n",
       " 'Perpustakaan Tengah Malam (The Midnight Library)',\n",
       " 'Keajaiban Toko Kelontong Namiya---Namiya Zakkaten no Kiseki/The Miracles of the Namiya General Store',\n",
       " 'Man Boy',\n",
       " 'Bibi Gill',\n",
       " 'Sagaras',\n",
       " 'Tiga dalam Kayu',\n",
       " 'Tempat Paling Liar di Muka Bumi',\n",
       " 'Kesetiaan Mr. X (Devotion of Suspect X)',\n",
       " 'Pembunuhan di Nihonbashi (The Newcomer)',\n",
       " 'Cantik Itu Luka (edisi 20 Tahun)',\n",
       " 'Novel Di Tanah Lada',\n",
       " 'Klara dan Sang Matahari (Klara and The Sun)',\n",
       " 'Novel Catatan Pembunuhan Sang Novelis (Malice)',\n",
       " 'Pembunuhan Zodiak Tokyo (The Tokyo Zodiac Murders)']"
      ]
     },
     "execution_count": 39,
     "metadata": {},
     "output_type": "execute_result"
    }
   ],
   "source": [
    "book_title"
   ]
  },
  {
   "cell_type": "code",
   "execution_count": 40,
   "id": "1217ea27-926b-4502-af42-3560df070305",
   "metadata": {},
   "outputs": [],
   "source": [
    "normal_price = soup.find_all('p', {'class':'formats-base-price'})"
   ]
  },
  {
   "cell_type": "code",
   "execution_count": 42,
   "id": "5ba31108-ec5f-42a0-8c06-628e0956fc38",
   "metadata": {},
   "outputs": [],
   "source": [
    "normal_price = [p.text.strip() for p in normal_price]"
   ]
  },
  {
   "cell_type": "code",
   "execution_count": 43,
   "id": "32143f1c-5614-4ec2-89c0-5c47c80efb3f",
   "metadata": {},
   "outputs": [
    {
     "data": {
      "text/plain": [
       "['Rp 115.000',\n",
       " 'Rp 99.000',\n",
       " 'Rp 65.000',\n",
       " 'Rp 128.000',\n",
       " 'Rp 70.000',\n",
       " 'Rp 65.000',\n",
       " 'Rp 105.000',\n",
       " 'Rp 130.000',\n",
       " 'Rp 99.000',\n",
       " 'Rp 89.000',\n",
       " 'Rp 89.000',\n",
       " 'Rp 75.000',\n",
       " 'Rp 50.000',\n",
       " 'Rp 97.000',\n",
       " 'Rp 93.000',\n",
       " 'Rp 178.000',\n",
       " 'Rp 88.000',\n",
       " 'Rp 117.000',\n",
       " 'Rp 93.000',\n",
       " 'Rp 90.000']"
      ]
     },
     "execution_count": 43,
     "metadata": {},
     "output_type": "execute_result"
    }
   ],
   "source": [
    "normal_price"
   ]
  },
  {
   "cell_type": "code",
   "execution_count": 44,
   "id": "b87f31e7-54a4-4c96-b4b9-1541d6cce035",
   "metadata": {},
   "outputs": [],
   "source": [
    "price_after_sale = soup.find_all('p', {'class':'formats-price'})"
   ]
  },
  {
   "cell_type": "code",
   "execution_count": 45,
   "id": "9b26d5d5-f43f-41ac-8697-f16205a5b5e7",
   "metadata": {},
   "outputs": [],
   "source": [
    "price_after_sale = [s.text.strip() for s in price_after_sale]"
   ]
  },
  {
   "cell_type": "code",
   "execution_count": 46,
   "id": "fb947cce-6bf4-472b-b7a2-42718afe8712",
   "metadata": {},
   "outputs": [
    {
     "data": {
      "text/plain": [
       "['Rp 97.750',\n",
       " 'Rp 79.200',\n",
       " 'Rp 48.750',\n",
       " 'Rp 96.000',\n",
       " 'Rp 52.500',\n",
       " 'Rp 52.000',\n",
       " 'Rp 78.750',\n",
       " 'Rp 97.500',\n",
       " 'Rp 79.200',\n",
       " 'Rp 75.650',\n",
       " 'Rp 75.650',\n",
       " 'Rp 56.250',\n",
       " 'Rp 37.500',\n",
       " 'Rp 72.750',\n",
       " 'Rp 69.750',\n",
       " 'Rp 133.500',\n",
       " 'Rp 66.000',\n",
       " 'Rp 87.750',\n",
       " 'Rp 69.750',\n",
       " 'Rp 67.500']"
      ]
     },
     "execution_count": 46,
     "metadata": {},
     "output_type": "execute_result"
    }
   ],
   "source": [
    "price_after_sale"
   ]
  },
  {
   "cell_type": "code",
   "execution_count": 47,
   "id": "d1800bcf-4f5a-42c5-b1f6-5d7c4a3fc2c3",
   "metadata": {},
   "outputs": [],
   "source": [
    "data = pd.DataFrame()"
   ]
  },
  {
   "cell_type": "code",
   "execution_count": 48,
   "id": "205e3933-8816-4045-ada2-0f67fe72e6e5",
   "metadata": {},
   "outputs": [],
   "source": [
    "data['author'] = author_name\n",
    "data['title'] = book_title\n",
    "data['normal_price'] = normal_price\n",
    "data['current_price'] = price_after_sale"
   ]
  },
  {
   "cell_type": "code",
   "execution_count": 49,
   "id": "99c8f54e-0506-426e-b84c-43ec630993e8",
   "metadata": {},
   "outputs": [
    {
     "data": {
      "text/html": [
       "<div>\n",
       "<style scoped>\n",
       "    .dataframe tbody tr th:only-of-type {\n",
       "        vertical-align: middle;\n",
       "    }\n",
       "\n",
       "    .dataframe tbody tr th {\n",
       "        vertical-align: top;\n",
       "    }\n",
       "\n",
       "    .dataframe thead th {\n",
       "        text-align: right;\n",
       "    }\n",
       "</style>\n",
       "<table border=\"1\" class=\"dataframe\">\n",
       "  <thead>\n",
       "    <tr style=\"text-align: right;\">\n",
       "      <th></th>\n",
       "      <th>author</th>\n",
       "      <th>title</th>\n",
       "      <th>normal_price</th>\n",
       "      <th>current_price</th>\n",
       "    </tr>\n",
       "  </thead>\n",
       "  <tbody>\n",
       "    <tr>\n",
       "      <th>0</th>\n",
       "      <td>Andrea Hirata</td>\n",
       "      <td>Brianna dan Bottomwise</td>\n",
       "      <td>Rp 115.000</td>\n",
       "      <td>Rp 97.750</td>\n",
       "    </tr>\n",
       "    <tr>\n",
       "      <th>1</th>\n",
       "      <td>Ika Natassa</td>\n",
       "      <td>Heartbreak Motel</td>\n",
       "      <td>Rp 99.000</td>\n",
       "      <td>Rp 79.200</td>\n",
       "    </tr>\n",
       "    <tr>\n",
       "      <th>2</th>\n",
       "      <td>C. S. Lewis</td>\n",
       "      <td>The Chronicles of Narnia #1: The Magician`s Ne...</td>\n",
       "      <td>Rp 65.000</td>\n",
       "      <td>Rp 48.750</td>\n",
       "    </tr>\n",
       "    <tr>\n",
       "      <th>3</th>\n",
       "      <td>TARA WESTOVER</td>\n",
       "      <td>Terdidik (Educated) - Sebuah Memoar</td>\n",
       "      <td>Rp 128.000</td>\n",
       "      <td>Rp 96.000</td>\n",
       "    </tr>\n",
       "    <tr>\n",
       "      <th>4</th>\n",
       "      <td>Toshikazu Kawaguchi</td>\n",
       "      <td>Funiculi Funicula (Kōhī Ga Samenai Uchi Ni---B...</td>\n",
       "      <td>Rp 70.000</td>\n",
       "      <td>Rp 52.500</td>\n",
       "    </tr>\n",
       "    <tr>\n",
       "      <th>5</th>\n",
       "      <td>C. S. Lewis</td>\n",
       "      <td>The Chronicles of Narnia #3: The Horse &amp; His B...</td>\n",
       "      <td>Rp 65.000</td>\n",
       "      <td>Rp 52.000</td>\n",
       "    </tr>\n",
       "    <tr>\n",
       "      <th>6</th>\n",
       "      <td>Matt Haig</td>\n",
       "      <td>Perpustakaan Tengah Malam (The Midnight Library)</td>\n",
       "      <td>Rp 105.000</td>\n",
       "      <td>Rp 78.750</td>\n",
       "    </tr>\n",
       "    <tr>\n",
       "      <th>7</th>\n",
       "      <td>Keigo Higashino</td>\n",
       "      <td>Keajaiban Toko Kelontong Namiya---Namiya Zakka...</td>\n",
       "      <td>Rp 130.000</td>\n",
       "      <td>Rp 97.500</td>\n",
       "    </tr>\n",
       "    <tr>\n",
       "      <th>8</th>\n",
       "      <td>Aliazalea</td>\n",
       "      <td>Man Boy</td>\n",
       "      <td>Rp 99.000</td>\n",
       "      <td>Rp 79.200</td>\n",
       "    </tr>\n",
       "    <tr>\n",
       "      <th>9</th>\n",
       "      <td>Tere-liye</td>\n",
       "      <td>Bibi Gill</td>\n",
       "      <td>Rp 89.000</td>\n",
       "      <td>Rp 75.650</td>\n",
       "    </tr>\n",
       "    <tr>\n",
       "      <th>10</th>\n",
       "      <td>Tere-liye</td>\n",
       "      <td>Sagaras</td>\n",
       "      <td>Rp 89.000</td>\n",
       "      <td>Rp 75.650</td>\n",
       "    </tr>\n",
       "    <tr>\n",
       "      <th>11</th>\n",
       "      <td>Ziggy Zezsyazeoviennazabrizkie</td>\n",
       "      <td>Tiga dalam Kayu</td>\n",
       "      <td>Rp 75.000</td>\n",
       "      <td>Rp 56.250</td>\n",
       "    </tr>\n",
       "    <tr>\n",
       "      <th>12</th>\n",
       "      <td>Theoresia Rumthe &amp; Weslly Johannes</td>\n",
       "      <td>Tempat Paling Liar di Muka Bumi</td>\n",
       "      <td>Rp 50.000</td>\n",
       "      <td>Rp 37.500</td>\n",
       "    </tr>\n",
       "    <tr>\n",
       "      <th>13</th>\n",
       "      <td>Keigo Higashino</td>\n",
       "      <td>Kesetiaan Mr. X (Devotion of Suspect X)</td>\n",
       "      <td>Rp 97.000</td>\n",
       "      <td>Rp 72.750</td>\n",
       "    </tr>\n",
       "    <tr>\n",
       "      <th>14</th>\n",
       "      <td>Keigo Higashino</td>\n",
       "      <td>Pembunuhan di Nihonbashi (The Newcomer)</td>\n",
       "      <td>Rp 93.000</td>\n",
       "      <td>Rp 69.750</td>\n",
       "    </tr>\n",
       "    <tr>\n",
       "      <th>15</th>\n",
       "      <td>Eka Kurniawan</td>\n",
       "      <td>Cantik Itu Luka (edisi 20 Tahun)</td>\n",
       "      <td>Rp 178.000</td>\n",
       "      <td>Rp 133.500</td>\n",
       "    </tr>\n",
       "    <tr>\n",
       "      <th>16</th>\n",
       "      <td>Ziggyzesyazeoviennazabrizkie</td>\n",
       "      <td>Novel Di Tanah Lada</td>\n",
       "      <td>Rp 88.000</td>\n",
       "      <td>Rp 66.000</td>\n",
       "    </tr>\n",
       "    <tr>\n",
       "      <th>17</th>\n",
       "      <td>Kazuo Ishiguro</td>\n",
       "      <td>Klara dan Sang Matahari (Klara and The Sun)</td>\n",
       "      <td>Rp 117.000</td>\n",
       "      <td>Rp 87.750</td>\n",
       "    </tr>\n",
       "    <tr>\n",
       "      <th>18</th>\n",
       "      <td>Keigo Higashino</td>\n",
       "      <td>Novel Catatan Pembunuhan Sang Novelis (Malice)</td>\n",
       "      <td>Rp 93.000</td>\n",
       "      <td>Rp 69.750</td>\n",
       "    </tr>\n",
       "    <tr>\n",
       "      <th>19</th>\n",
       "      <td>Soji Shimada</td>\n",
       "      <td>Pembunuhan Zodiak Tokyo (The Tokyo Zodiac Murd...</td>\n",
       "      <td>Rp 90.000</td>\n",
       "      <td>Rp 67.500</td>\n",
       "    </tr>\n",
       "  </tbody>\n",
       "</table>\n",
       "</div>"
      ],
      "text/plain": [
       "                                author  \\\n",
       "0                        Andrea Hirata   \n",
       "1                          Ika Natassa   \n",
       "2                          C. S. Lewis   \n",
       "3                        TARA WESTOVER   \n",
       "4                  Toshikazu Kawaguchi   \n",
       "5                          C. S. Lewis   \n",
       "6                            Matt Haig   \n",
       "7                      Keigo Higashino   \n",
       "8                            Aliazalea   \n",
       "9                            Tere-liye   \n",
       "10                           Tere-liye   \n",
       "11      Ziggy Zezsyazeoviennazabrizkie   \n",
       "12  Theoresia Rumthe & Weslly Johannes   \n",
       "13                     Keigo Higashino   \n",
       "14                     Keigo Higashino   \n",
       "15                       Eka Kurniawan   \n",
       "16        Ziggyzesyazeoviennazabrizkie   \n",
       "17                      Kazuo Ishiguro   \n",
       "18                     Keigo Higashino   \n",
       "19                        Soji Shimada   \n",
       "\n",
       "                                                title normal_price  \\\n",
       "0                              Brianna dan Bottomwise   Rp 115.000   \n",
       "1                                    Heartbreak Motel    Rp 99.000   \n",
       "2   The Chronicles of Narnia #1: The Magician`s Ne...    Rp 65.000   \n",
       "3                 Terdidik (Educated) - Sebuah Memoar   Rp 128.000   \n",
       "4   Funiculi Funicula (Kōhī Ga Samenai Uchi Ni---B...    Rp 70.000   \n",
       "5   The Chronicles of Narnia #3: The Horse & His B...    Rp 65.000   \n",
       "6    Perpustakaan Tengah Malam (The Midnight Library)   Rp 105.000   \n",
       "7   Keajaiban Toko Kelontong Namiya---Namiya Zakka...   Rp 130.000   \n",
       "8                                             Man Boy    Rp 99.000   \n",
       "9                                           Bibi Gill    Rp 89.000   \n",
       "10                                            Sagaras    Rp 89.000   \n",
       "11                                    Tiga dalam Kayu    Rp 75.000   \n",
       "12                    Tempat Paling Liar di Muka Bumi    Rp 50.000   \n",
       "13            Kesetiaan Mr. X (Devotion of Suspect X)    Rp 97.000   \n",
       "14            Pembunuhan di Nihonbashi (The Newcomer)    Rp 93.000   \n",
       "15                   Cantik Itu Luka (edisi 20 Tahun)   Rp 178.000   \n",
       "16                                Novel Di Tanah Lada    Rp 88.000   \n",
       "17        Klara dan Sang Matahari (Klara and The Sun)   Rp 117.000   \n",
       "18     Novel Catatan Pembunuhan Sang Novelis (Malice)    Rp 93.000   \n",
       "19  Pembunuhan Zodiak Tokyo (The Tokyo Zodiac Murd...    Rp 90.000   \n",
       "\n",
       "   current_price  \n",
       "0      Rp 97.750  \n",
       "1      Rp 79.200  \n",
       "2      Rp 48.750  \n",
       "3      Rp 96.000  \n",
       "4      Rp 52.500  \n",
       "5      Rp 52.000  \n",
       "6      Rp 78.750  \n",
       "7      Rp 97.500  \n",
       "8      Rp 79.200  \n",
       "9      Rp 75.650  \n",
       "10     Rp 75.650  \n",
       "11     Rp 56.250  \n",
       "12     Rp 37.500  \n",
       "13     Rp 72.750  \n",
       "14     Rp 69.750  \n",
       "15    Rp 133.500  \n",
       "16     Rp 66.000  \n",
       "17     Rp 87.750  \n",
       "18     Rp 69.750  \n",
       "19     Rp 67.500  "
      ]
     },
     "execution_count": 49,
     "metadata": {},
     "output_type": "execute_result"
    }
   ],
   "source": [
    "data"
   ]
  },
  {
   "cell_type": "code",
   "execution_count": null,
   "id": "2337f48d-16de-494a-a4c1-502c3ea7a21d",
   "metadata": {},
   "outputs": [],
   "source": []
  }
 ],
 "metadata": {
  "kernelspec": {
   "display_name": "Python 3 (ipykernel)",
   "language": "python",
   "name": "python3"
  },
  "language_info": {
   "codemirror_mode": {
    "name": "ipython",
    "version": 3
   },
   "file_extension": ".py",
   "mimetype": "text/x-python",
   "name": "python",
   "nbconvert_exporter": "python",
   "pygments_lexer": "ipython3",
   "version": "3.9.7"
  }
 },
 "nbformat": 4,
 "nbformat_minor": 5
}
